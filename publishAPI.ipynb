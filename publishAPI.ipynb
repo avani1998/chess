{
 "cells": [
  {
   "cell_type": "code",
   "execution_count": 2,
   "metadata": {},
   "outputs": [],
   "source": [
    "import pandas as pd\n",
    "from urllib.request import urlopen\n",
    "import json\n",
    "from datetime import datetime"
   ]
  },
  {
   "cell_type": "code",
   "execution_count": 3,
   "metadata": {},
   "outputs": [],
   "source": [
    "# Connect to MongoDB\n",
    "from pymongo import MongoClient\n",
    "client = MongoClient('localhost',27017) ## or MongoClient(\"localhost:27\")\n",
    "mongodb = client.chessDB\n",
    "gameCollection = mongodb.gameCollection\n",
    "playerCollection = mongodb.playerCollection"
   ]
  },
  {
   "cell_type": "code",
   "execution_count": 4,
   "metadata": {},
   "outputs": [],
   "source": [
    "# get wins losses and draws for a data_json\n",
    "def get_wld (data_json):\n",
    "  \n",
    "  wins1=losses1=draws1=wins2=losses2=draws2=wins3=losses3=draws3=0\n",
    "  # try:    \n",
    "  #   wins1,losses1,draws1= data_json[\"chess_rapid\"][\"record\"].values()\n",
    "  #   wins2,losses2,draws2= data_json[\"chess_bullet\"][\"record\"].values()\n",
    "  #   wins3,losses3,draws3= data_json[\"chess_blitz\"][\"record\"].values() \n",
    "  # except:\n",
    "  #   pass\n",
    "  try:\n",
    "    rapid_record = data_json.get(\"chess_rapid\", {}).get(\"record\", {})\n",
    "    wins1,losses1,draws1 = rapid_record[\"win\"] or 0, rapid_record[\"loss\"] or 0, rapid_record[\"draw\"] or 0\n",
    "\n",
    "  except KeyError as e:\n",
    "    pass\n",
    "\n",
    "  try:\n",
    "    bullet_record = data_json.get(\"chess_bullet\", {}).get(\"record\", {})\n",
    "    wins2, losses2, draws2 = bullet_record.get(\"win\", 0), bullet_record.get(\"loss\", 0), bullet_record.get(\"draw\", 0)\n",
    "  except KeyError as e:\n",
    "    pass\n",
    "\n",
    "  try:\n",
    "    blitz_record = data_json.get(\"chess_blitz\", {}).get(\"record\", {})\n",
    "    wins3, losses3, draws3 = blitz_record.get(\"win\", 0), blitz_record.get(\"loss\", 0), blitz_record.get(\"draw\", 0)\n",
    "  except KeyError as e:\n",
    "    pass\n",
    "  # print(f\"{wins3},{losses3},{draws3}\")\n",
    "\n",
    "  wins = wins1+wins2+wins3\n",
    "  losses= losses1+losses2+losses3\n",
    "  draws = draws1+draws2+draws3\n",
    "\n",
    "  return wins,losses,draws"
   ]
  },
  {
   "cell_type": "code",
   "execution_count": 5,
   "metadata": {},
   "outputs": [],
   "source": [
    "def getDate(data_json):\n",
    "    \n",
    "    try:\n",
    "        dates = [data_json[\"chess_blitz\"][\"last\"][\"date\"], data_json[\"chess_bullet\"][\"last\"][\"date\"], data_json[\"chess_rapid\"][\"last\"][\"date\"]]\n",
    "        unixDate = max(dates)\n",
    "        date = datetime.datetime.fromtimestamp(unixDate).strftime('%Y.%m.%d')\n",
    "    except:\n",
    "        date = datetime.today().strftime('%Y.%m.%d')\n",
    "\n",
    "    return date"
   ]
  },
  {
   "cell_type": "code",
   "execution_count": 6,
   "metadata": {},
   "outputs": [
    {
     "name": "stdout",
     "output_type": "stream",
     "text": [
      "https://api.chess.com/pub/player/airgun1/stats\n"
     ]
    }
   ],
   "source": [
    "titles = [\"GM\", \"WGM\", \"IM\", \"WIM\", \"FM\", \"WFM\", \"NM\", \"WNM\", \"CM\", \"WCM\"]\n",
    "names = []\n",
    "playerDocuments = playerCollection.find()\n",
    "all_players = {}\n",
    "allNames = []\n",
    "for doc in playerDocuments:\n",
    "    try:\n",
    "        allNames.append(doc['name'])\n",
    "    except:\n",
    "        print(doc)\n",
    "\n",
    "for title in titles:\n",
    "  url = \"https://api.chess.com/pub/titled/{}\".format(title)\n",
    "  response = urlopen(url)\n",
    "  data_json = json.loads(response.read())\n",
    "  names.extend(data_json[\"players\"])\n",
    "\n",
    "players={}\n",
    "chess_rapid_rating = chess_bullet_rating = chess_blitz_rating = 0\n",
    "rd_blitz = rd_bullet = rd_rapid = 0\n",
    "weight_rapid = weight_bullet = weight_blitz = 0\n",
    "\n",
    "for id in names:\n",
    "    url_name = \"https://api.chess.com/pub/player/{}/stats\".format(id)\n",
    "    try:\n",
    "        response = urlopen(url_name)\n",
    "        data_json = json.loads(response.read())\n",
    "    except:\n",
    "        print(url_name)\n",
    "   \n",
    "    try:\n",
    "        rd_rapid = data_json[\"chess_rapid\"][\"last\"][\"rd\"]\n",
    "        weight_rapid = (1/rd_rapid**2)\n",
    "        chess_rapid_rating = data_json[\"chess_rapid\"][\"last\"][\"rating\"]\n",
    "    except:\n",
    "        rd_rapid = 0\n",
    "        weight_rapid = 0\n",
    "        chess_rapid_rating = 0\n",
    "  \n",
    "    try:\n",
    "        rd_bullet = data_json[\"chess_bullet\"][\"last\"][\"rd\"]\n",
    "        weight_bullet = (1/rd_bullet**2)\n",
    "        chess_bullet_rating = data_json[\"chess_bullet\"][\"last\"][\"rating\"]\n",
    "    except:\n",
    "        rd_bullet = 0\n",
    "        weight_bullet = 0\n",
    "        chess_bullet_rating = 0\n",
    "  \n",
    "    try:\n",
    "        rd_blitz = data_json[\"chess_blitz\"][\"last\"][\"rd\"]\n",
    "        weight_blitz = (1/rd_blitz**2)\n",
    "        chess_blitz_rating = data_json[\"chess_blitz\"][\"last\"][\"rating\"]\n",
    "    except:\n",
    "        rd_blitz = 0\n",
    "        weight_blitz = 0\n",
    "        chess_blitz_rating = 0\n",
    "    \n",
    "    try:\n",
    "        rating = int(((chess_rapid_rating*weight_rapid) + (chess_bullet_rating*weight_bullet) + (chess_blitz_rating*weight_blitz))/(weight_rapid+weight_blitz+weight_bullet))\n",
    "    except:\n",
    "        continue\n",
    "    \n",
    "    wins, losses, draws = get_wld(data_json)\n",
    "    date = getDate(data_json)\n",
    "    # print(wins, losses, draws, date, id, name)\n",
    "    \n",
    "\n",
    "    url_name = \"https://api.chess.com/pub/player/{}\".format(id)\n",
    "    response = urlopen(url_name)\n",
    "    data_json = json.loads(response.read())\n",
    "    \n",
    "    try:\n",
    "        name = data_json['name']\n",
    "        all_players[name] = {'wins':wins,'losses':losses,'draws':draws,'date':date,'id':id}\n",
    "    except:\n",
    "        continue\n",
    "    \n",
    "    if name in allNames:\n",
    "    # update wins losses or draws\n",
    "        myquery = {\"name\": name}\n",
    "        myPlayer = playerCollection.find_one(myquery)\n",
    "        if myPlayer is None:\n",
    "            continue\n",
    "    \n",
    "        newvalues = { \"$set\": { \"wins\": wins, \"losses\": losses, \"draws\": draws } }\n",
    "        playerCollection.update_one(myquery, newvalues)\n",
    "\n",
    "        #update date\n",
    "        newDate = myPlayer['dates']\n",
    "        newDate.append(date)\n",
    "        newvalues = { \"$set\": { \"dates\": newDate } }\n",
    "        playerCollection.update_one(myquery, newvalues)\n",
    "\n",
    "        #update rating\n",
    "        newRating = myPlayer['ratings']\n",
    "        newRating.append(rating)\n",
    "        newvalues = { \"$set\": { \"ratings\": newRating} }\n",
    "        playerCollection.update_one(myquery, newvalues)\n",
    "\n",
    "    else:\n",
    "        playerData = {'name': name,\n",
    "                    'wins': wins,\n",
    "                    'losses': losses,\n",
    "                    'draws': draws,\n",
    "                    'dates':[date],\n",
    "                    'ratings':[rating]\n",
    "                    }\n",
    "    \n",
    "        playerCollection.insert_one(playerData)\n",
    "        allNames.append(name)\n"
   ]
  },
  {
   "cell_type": "code",
   "execution_count": null,
   "metadata": {},
   "outputs": [
    {
     "ename": "NameError",
     "evalue": "name 'all_players' is not defined",
     "output_type": "error",
     "traceback": [
      "\u001b[1;31m---------------------------------------------------------------------------\u001b[0m",
      "\u001b[1;31mNameError\u001b[0m                                 Traceback (most recent call last)",
      "\u001b[1;32mf:\\BigData_JG\\Project\\Chess\\publishAPI.ipynb Cell 6\u001b[0m in \u001b[0;36m1\n\u001b[1;32m----> <a href='vscode-notebook-cell:/f%3A/BigData_JG/Project/Chess/publishAPI.ipynb#X11sZmlsZQ%3D%3D?line=0'>1</a>\u001b[0m \u001b[39mprint\u001b[39m(all_players)\n",
      "\u001b[1;31mNameError\u001b[0m: name 'all_players' is not defined"
     ]
    }
   ],
   "source": [
    "print(all_players)"
   ]
  },
  {
   "cell_type": "code",
   "execution_count": null,
   "metadata": {},
   "outputs": [],
   "source": [
    "from flask import Flask\n",
    "from flask_restful import Resource, Api, reqparse\n",
    "import pandas as pd\n",
    "import ast\n",
    "app = Flask(__name__)\n",
    "api = Api(app)"
   ]
  },
  {
   "cell_type": "code",
   "execution_count": null,
   "metadata": {},
   "outputs": [],
   "source": [
    "class Users(Resource):\n",
    "    # methods go here\n",
    "    def get(self):\n",
    "        print('data',all_players)\n",
    "        return {'data': all_players}, 200  # return data and 200 OK code\n",
    "    \n",
    "#     pass\n",
    "\n",
    "api.add_resource(Users, '/users')  # '/users' is our entry point"
   ]
  },
  {
   "cell_type": "code",
   "execution_count": null,
   "metadata": {},
   "outputs": [],
   "source": [
    "if __name__ == '__main__':\n",
    "    app.run()  # run our Flask app"
   ]
  }
 ],
 "metadata": {
  "kernelspec": {
   "display_name": "Python 3",
   "language": "python",
   "name": "python3"
  },
  "language_info": {
   "codemirror_mode": {
    "name": "ipython",
    "version": 3
   },
   "file_extension": ".py",
   "mimetype": "text/x-python",
   "name": "python",
   "nbconvert_exporter": "python",
   "pygments_lexer": "ipython3",
   "version": "3.10.7"
  },
  "orig_nbformat": 4
 },
 "nbformat": 4,
 "nbformat_minor": 2
}
