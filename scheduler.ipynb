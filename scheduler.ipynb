{
 "cells": [
  {
   "cell_type": "code",
   "execution_count": null,
   "metadata": {},
   "outputs": [],
   "source": [
    "import time\n",
    "from apscheduler.schedulers.background import BackgroundScheduler\n",
    "from apscheduler.triggers.interval import IntervalTrigger\n",
    "from apscheduler.triggers.cron import CronTrigger\n",
    "import nbformat\n",
    "from nbclient import NotebookClient\n",
    "\n",
    "# scheduler.add_job\n",
    "\n",
    "\n",
    "def run_notebook():\n",
    "    nb = nbformat.read('apiData.ipynb', as_version=4)\n",
    "    client = NotebookClient(nb)\n",
    "    client.execute()\n",
    "\n",
    "scheduler = BackgroundScheduler()\n",
    "# scheduler.add_job(run_notebook, trigger=IntervalTrigger(seconds=5))\n",
    "scheduler.add_job(run_notebook, trigger=CronTrigger(day='last'))\n",
    "scheduler.start()\n",
    "\n",
    "# This will keep the main thread alive until the program is manually terminated\n",
    "try:\n",
    "    while True:\n",
    "        time.sleep(2)\n",
    "except (KeyboardInterrupt, SystemExit):\n",
    "    scheduler.shutdown()\n"
   ]
  }
 ],
 "metadata": {
  "language_info": {
   "name": "python"
  },
  "orig_nbformat": 4
 },
 "nbformat": 4,
 "nbformat_minor": 2
}
